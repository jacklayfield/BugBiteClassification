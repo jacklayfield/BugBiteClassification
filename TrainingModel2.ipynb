{
 "cells": [
  {
   "cell_type": "code",
   "execution_count": null,
   "id": "2dc4cbcf",
   "metadata": {},
   "outputs": [],
   "source": [
    "import numpy as np\n",
    "from keras.models import Sequential"
   ]
  },
  {
   "cell_type": "code",
   "execution_count": null,
   "id": "ea9292d7",
   "metadata": {},
   "outputs": [],
   "source": [
    "import os\n",
    "\n",
    "path = \"./initial training set\"\n",
    "biteLabels = os.listdir(path)\n",
    "\n"
   ]
  },
  {
   "cell_type": "code",
   "execution_count": null,
   "id": "4a5f1a3d",
   "metadata": {},
   "outputs": [],
   "source": [
    "biteLabels"
   ]
  },
  {
   "cell_type": "code",
   "execution_count": null,
   "id": "5b0da234",
   "metadata": {
    "scrolled": false
   },
   "outputs": [],
   "source": [
    "allBiteImageNames = []\n",
    "allBiteImageLabels = []\n",
    "from functools import reduce\n",
    "from operator import concat\n",
    "from __future__ import print_function  # Py 2.6+; In Py 3k not needed\n",
    "import random\n",
    "\n",
    "for i in range (len (biteLabels)):\n",
    "    bitePath = path + \"/\" + biteLabels[i]\n",
    "    #print(bitePath)\n",
    "    bitePathListDir = os.listdir(bitePath)\n",
    "    print(len(bitePathListDir))\n",
    "    biteImageLabels = []\n",
    "    \n",
    "    for j in range(len(bitePathListDir)):\n",
    "        allBiteImageLabels.append(i)\n",
    "        \n",
    "    allBiteImageNames += bitePathListDir\n",
    "    \n",
    "\n",
    "print(len(allBiteImageNames))\n",
    "print(len(allBiteImageLabels))\n",
    "\n",
    "imageNameToLabel = dict(zip(allBiteImageNames,allBiteImageLabels))\n",
    "\n",
    "\n",
    "\n",
    "print(*imageNameToLabel.items(), sep='\\n')"
   ]
  },
  {
   "cell_type": "code",
   "execution_count": null,
   "id": "4762555f",
   "metadata": {},
   "outputs": [],
   "source": [
    "from sklearn.model_selection import train_test_split\n",
    "\n",
    "trainImageNames, testImageNames  = train_test_split(allBiteImageNames, test_size=0.2, shuffle=False)    "
   ]
  },
  {
   "cell_type": "code",
   "execution_count": null,
   "id": "d2cc9e3f",
   "metadata": {},
   "outputs": [],
   "source": [
    "print(len(trainImageNames))\n",
    "print(len(testImageNames))"
   ]
  },
  {
   "cell_type": "code",
   "execution_count": null,
   "id": "54433b3b",
   "metadata": {},
   "outputs": [],
   "source": [
    "partition = {\n",
    "    'train':trainImageNames,\n",
    "    'validation':testImageNames\n",
    "}"
   ]
  },
  {
   "cell_type": "code",
   "execution_count": null,
   "id": "846850f4",
   "metadata": {},
   "outputs": [],
   "source": [
    "imageNameToLabel"
   ]
  },
  {
   "cell_type": "code",
   "execution_count": null,
   "id": "8649c4ca",
   "metadata": {},
   "outputs": [],
   "source": [
    "print(len(partition['train']), len(partition['validation']))"
   ]
  },
  {
   "cell_type": "code",
   "execution_count": null,
   "id": "238bfa33",
   "metadata": {},
   "outputs": [],
   "source": [
    "import numpy as np\n",
    "import keras\n",
    "from PIL import Image\n",
    "class DataGenerator(keras.utils.Sequence):\n",
    "    'Generates data for Keras'\n",
    "    def __init__(self, list_IDs, labels, batch_size=32, dim=(32,32,32), n_channels=1,\n",
    "                 n_classes=10, shuffle=True):\n",
    "        'Initialization'\n",
    "        self.dim = dim\n",
    "        self.batch_size = batch_size\n",
    "        #self.labels = labels\n",
    "        self.list_IDs = list_IDs\n",
    "        self.n_channels = n_channels\n",
    "        self.n_classes = n_classes\n",
    "        self.shuffle = shuffle\n",
    "        self.on_epoch_end()\n",
    "\n",
    "    def __len__(self):\n",
    "        'Denotes the number of batches per epoch'\n",
    "        return int(np.floor(len(self.list_IDs) / self.batch_size))\n",
    "\n",
    "    def __getitem__(self, index):\n",
    "        'Generate one batch of data'\n",
    "        # Generate indexes of the batch\n",
    "        indexes = self.indexes[index*self.batch_size:(index+1)*self.batch_size]\n",
    "\n",
    "        # Find list of IDs\n",
    "        list_IDs_temp = [self.list_IDs[k] for k in indexes]\n",
    "\n",
    "        # Generate data\n",
    "        #X, y = self.__data_generation(list_IDs_temp)\n",
    "        X = self.__data_generation(list_IDs_temp)\n",
    "        return X #, y\n",
    "\n",
    "    def on_epoch_end(self):\n",
    "        'Updates indexes after each epoch'\n",
    "        self.indexes = np.arange(len(self.list_IDs))\n",
    "        if self.shuffle == True:\n",
    "            np.random.shuffle(self.indexes)\n",
    "\n",
    "    def __data_generation(self, list_IDs_temp):\n",
    "        'Generates data containing batch_size samples' # X : (n_samples, *dim, n_channels)\n",
    "        # Initialization\n",
    "        X = np.empty((self.batch_size, *self.dim, self.n_channels))\n",
    "        #y = np.empty((self.batch_size), dtype=int)\n",
    "\n",
    "        # Generate data\n",
    "        for i, ID in enumerate(list_IDs_temp):\n",
    "            # Store sample\n",
    "            X[i,] = Image.open('data/' + ID).resize((256,256))\n",
    "\n",
    "            # Store class\n",
    "            #y[i] = self.labels[ID]\n",
    "\n",
    "        return X #, keras.utils.to_categorical(y, num_classes=self.n_classes)"
   ]
  },
  {
   "cell_type": "code",
   "execution_count": null,
   "id": "12101575",
   "metadata": {},
   "outputs": [],
   "source": [
    "IMAGE_SIZE = 256\n",
    "params = {'dim': (4,IMAGE_SIZE, IMAGE_SIZE),\n",
    "          'batch_size': 8,\n",
    "          'n_classes': 2,\n",
    "          'n_channels': 3,\n",
    "          'shuffle': True}\n",
    "\n",
    "training_generator = DataGenerator(partition['train'], imageNameToLabel, **params)\n",
    "validation_generator = DataGenerator(partition['validation'], imageNameToLabel, **params)"
   ]
  },
  {
   "cell_type": "code",
   "execution_count": null,
   "id": "c0911f48",
   "metadata": {},
   "outputs": [],
   "source": [
    "import keras\n",
    "from tensorflow.keras import models, layers\n",
    "IMAGE_SIZE = 256\n",
    "BATCH_SIZE = 8\n",
    "CHANNELS = 3\n",
    "EPOCHS = 50\n",
    "Input_shape=(BATCH_SIZE, IMAGE_SIZE,IMAGE_SIZE, CHANNELS)\n",
    "n_classes = 2\n",
    "model = models.Sequential()\n",
    "layers.Conv2D(32, (3,3), activation='relu', input_shape=(IMAGE_SIZE,IMAGE_SIZE,1)),\n",
    "layers.Conv2D(64, kernel_size = (3,3), activation='relu'),   \n",
    "layers.MaxPooling2D((2,2)),\n",
    "layers.Conv2D(64, kernel_size = (3,3), activation='relu'),              \n",
    "layers.Conv2D(64, (3,3), activation='relu'),              \n",
    "layers.MaxPooling2D((2,2)),\n",
    "layers.Flatten(),\n",
    "layers.Dense(64, activation='relu'),\n",
    "layers.Dense(n_classes, activation='sigmoid')\n",
    "model.build(input_shape=Input_shape)"
   ]
  },
  {
   "cell_type": "code",
   "execution_count": null,
   "id": "1d6bca26",
   "metadata": {},
   "outputs": [],
   "source": [
    "model.summary()"
   ]
  },
  {
   "cell_type": "code",
   "execution_count": null,
   "id": "e19915d2",
   "metadata": {},
   "outputs": [],
   "source": [
    "import tensorflow as tf\n",
    "model.compile(\n",
    "    optimizer ='adam',\n",
    "    loss = tf.keras.losses.SparseCategoricalCrossentropy(from_logits=False),\n",
    "    metrics = ['accuracy']\n",
    ")"
   ]
  },
  {
   "cell_type": "code",
   "execution_count": null,
   "id": "50e026fb",
   "metadata": {},
   "outputs": [],
   "source": [
    "model.fit(training_generator,\n",
    "                    validation_generator,\n",
    "                    use_multiprocessing=True,\n",
    "                    workers=6)"
   ]
  },
  {
   "cell_type": "code",
   "execution_count": null,
   "id": "4dd21a42",
   "metadata": {},
   "outputs": [],
   "source": []
  },
  {
   "cell_type": "code",
   "execution_count": null,
   "id": "cf087055",
   "metadata": {},
   "outputs": [],
   "source": []
  },
  {
   "cell_type": "code",
   "execution_count": null,
   "id": "916806c2",
   "metadata": {},
   "outputs": [],
   "source": []
  }
 ],
 "metadata": {
  "kernelspec": {
   "display_name": "Python 3 (ipykernel)",
   "language": "python",
   "name": "python3"
  },
  "language_info": {
   "codemirror_mode": {
    "name": "ipython",
    "version": 3
   },
   "file_extension": ".py",
   "mimetype": "text/x-python",
   "name": "python",
   "nbconvert_exporter": "python",
   "pygments_lexer": "ipython3",
   "version": "3.9.12"
  }
 },
 "nbformat": 4,
 "nbformat_minor": 5
}
