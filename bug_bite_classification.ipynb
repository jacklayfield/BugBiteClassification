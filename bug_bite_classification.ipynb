{
 "cells": [
  {
   "cell_type": "code",
   "execution_count": null,
   "id": "e39ba61e",
   "metadata": {},
   "outputs": [],
   "source": [
    "from IPython.display import display\n",
    "import os\n",
    "import shutil"
   ]
  },
  {
   "cell_type": "code",
   "execution_count": null,
   "id": "2d9af073",
   "metadata": {},
   "outputs": [],
   "source": [
    "import numpy as np\n",
    "import glob\n",
    "import numpy as np\n",
    "import keras\n",
    "import matplotlib.pyplot as plt\n",
    "import tensorflow as tf"
   ]
  },
  {
   "cell_type": "code",
   "execution_count": null,
   "id": "41e0d18a",
   "metadata": {},
   "outputs": [],
   "source": [
    "IMAGE_SIZE = 256\n",
    "BATCH_SIZE = 8\n",
    "CHANNELS = 3\n",
    "EPOCHS = 50"
   ]
  },
  {
   "cell_type": "code",
   "execution_count": null,
   "id": "5f510369",
   "metadata": {},
   "outputs": [],
   "source": [
    "dataset = tf.keras.preprocessing.image_dataset_from_directory(\n",
    "    \"./initial training set\", \n",
    "    shuffle=True,\n",
    "    image_size = (IMAGE_SIZE,IMAGE_SIZE),\n",
    "    batch_size = BATCH_SIZE\n",
    ")"
   ]
  },
  {
   "cell_type": "code",
   "execution_count": null,
   "id": "417b454d",
   "metadata": {},
   "outputs": [],
   "source": [
    "class_names = dataset.class_names\n",
    "class_names"
   ]
  },
  {
   "cell_type": "code",
   "execution_count": null,
   "id": "333e6d05",
   "metadata": {},
   "outputs": [],
   "source": [
    "len(dataset)"
   ]
  },
  {
   "cell_type": "code",
   "execution_count": null,
   "id": "71e34ead",
   "metadata": {},
   "outputs": [],
   "source": [
    "train_size = 0.8\n",
    "train_set_length = len(dataset) * train_size\n",
    "train_set_length"
   ]
  },
  {
   "cell_type": "code",
   "execution_count": null,
   "id": "c6e70d00",
   "metadata": {},
   "outputs": [],
   "source": [
    "train_ds= dataset.take(16)"
   ]
  },
  {
   "cell_type": "code",
   "execution_count": null,
   "id": "7a6713c0",
   "metadata": {},
   "outputs": [],
   "source": [
    "len(train_ds)"
   ]
  },
  {
   "cell_type": "code",
   "execution_count": null,
   "id": "3756c858",
   "metadata": {},
   "outputs": [],
   "source": [
    "test_ds = dataset.skip(16) \n",
    "len(test_ds)"
   ]
  },
  {
   "cell_type": "code",
   "execution_count": null,
   "id": "b93b5465",
   "metadata": {},
   "outputs": [],
   "source": [
    "val_size = 0.1\n",
    "len(dataset)*val_size"
   ]
  },
  {
   "cell_type": "code",
   "execution_count": null,
   "id": "86923ddb",
   "metadata": {},
   "outputs": [],
   "source": [
    "val_ds = test_ds.take(2)"
   ]
  },
  {
   "cell_type": "code",
   "execution_count": null,
   "id": "711d4457",
   "metadata": {},
   "outputs": [],
   "source": [
    "len(val_ds)"
   ]
  },
  {
   "cell_type": "code",
   "execution_count": null,
   "id": "aa101afa",
   "metadata": {},
   "outputs": [],
   "source": [
    "test_ds = test_ds.skip(2)\n",
    "len(test_ds)"
   ]
  },
  {
   "cell_type": "code",
   "execution_count": null,
   "id": "c1487c16",
   "metadata": {},
   "outputs": [],
   "source": [
    "def get_dataset_partitions_tf(ds, train_split=0.8, val_split= 0.1, test_split = 0.1, shuffle=True, shuffle_size =10000):\n",
    "    ds_size = len(ds)\n",
    "    if shuffle:\n",
    "        ds=ds.shuffle(shuffle_size,seed=12)\n",
    "    \n",
    "    train_size = int(train_split * ds_size)\n",
    "    val_size = int(val_split * ds_size)\n",
    "    train_ds = ds.take(train_size)\n",
    "    val_ds = ds.skip(train_size).take(val_size)\n",
    "    test_ds = ds.skip(train_size).skip(val_size)\n",
    "    \n",
    "    return train_ds, val_ds, test_ds"
   ]
  },
  {
   "cell_type": "code",
   "execution_count": null,
   "id": "eee20475",
   "metadata": {},
   "outputs": [],
   "source": [
    "train_ds, val_ds, test_ds = get_dataset_partitions_tf(dataset)"
   ]
  },
  {
   "cell_type": "code",
   "execution_count": null,
   "id": "a3f1e606",
   "metadata": {},
   "outputs": [],
   "source": [
    "len(train_ds)\n",
    "len(val_ds)\n",
    "len(test_ds)"
   ]
  },
  {
   "cell_type": "code",
   "execution_count": null,
   "id": "6175c354",
   "metadata": {},
   "outputs": [],
   "source": [
    "train_ds = train_ds.cache().shuffle(1000).prefetch(buffer_size = tf.data.AUTOTUNE)\n",
    "val_ds = val_ds.cache().shuffle(1000).prefetch(buffer_size = tf.data.AUTOTUNE)\n",
    "test_ds = test_ds.cache().shuffle(1000).prefetch(buffer_size = tf.data.AUTOTUNE)"
   ]
  },
  {
   "cell_type": "code",
   "execution_count": null,
   "id": "a4aa2280",
   "metadata": {},
   "outputs": [],
   "source": [
    "from tensorflow.keras import models, layers"
   ]
  },
  {
   "cell_type": "code",
   "execution_count": null,
   "id": "c3a82e4c",
   "metadata": {},
   "outputs": [],
   "source": [
    "resize_and_rescale = tf.keras.Sequential([\n",
    "    layers.experimental.preprocessing.Resizing(IMAGE_SIZE,IMAGE_SIZE),\n",
    "    layers.experimental.preprocessing.Rescaling(1.0/255)\n",
    "])"
   ]
  },
  {
   "cell_type": "code",
   "execution_count": null,
   "id": "fa141908",
   "metadata": {},
   "outputs": [],
   "source": [
    "data_augmentation = tf.keras.Sequential([\n",
    "    layers.experimental.preprocessing.RandomFlip(\"horizontal_and_vertical\"),\n",
    "    layers.experimental.preprocessing.RandomRotation(0.2) \n",
    "])"
   ]
  },
  {
   "cell_type": "code",
   "execution_count": null,
   "id": "a1c0e087",
   "metadata": {},
   "outputs": [],
   "source": [
    "import PIL\n",
    "import os\n",
    "from PIL import Image\n",
    "\n",
    "f = r'./initial training set/mosquito bites on skin'\n",
    "for file in os.listdir(f):\n",
    "    f_img = f+\"/\"+file\n",
    "    img = Image.open(f_img)\n",
    "    img = img.resize((128,128))\n",
    "    img.save(f_img)\n",
    "\n",
    "f = r'./initial training set/tick bites on skin'\n",
    "for file in os.listdir(f):\n",
    "    f_img = f+\"/\"+file\n",
    "    img = Image.open(f_img)\n",
    "    img = img.resize((128,128))\n",
    "    img.save(f_img)    "
   ]
  },
  {
   "cell_type": "code",
   "execution_count": null,
   "id": "ac7644f8",
   "metadata": {},
   "outputs": [],
   "source": []
  },
  {
   "cell_type": "code",
   "execution_count": null,
   "id": "186d079f",
   "metadata": {},
   "outputs": [],
   "source": [
    "from keras import backend as K\n",
    "# https://www.kaggle.com/xhlulu/severstal-simple-keras-u-net-boilerplate\n",
    "\n",
    "# COMPETITION METRIC\n",
    "def dice_coef(y_true, y_pred, smooth=1):\n",
    "    y_true_f = K.flatten(y_true)\n",
    "    y_pred_f = K.flatten(y_pred)\n",
    "    intersection = K.sum(y_true_f * y_pred_f)\n",
    "    return (2. * intersection + smooth) / (K.sum(y_true_f) + K.sum(y_pred_f) + smooth)"
   ]
  },
  {
   "cell_type": "code",
   "execution_count": null,
   "id": "87a1a24c",
   "metadata": {},
   "outputs": [],
   "source": [
    "from tensorflow.keras import backend\n",
    "def focal_dice(y_true, y_pred,smooth=1e-6):\n",
    "    \"\"\"https://github.com/umbertogriffo/focal-loss-keras/blob/master/src/loss_function/losses.py\"\"\"\n",
    "    gamma = 2.0\n",
    "    alpha = .25\n",
    "\n",
    "    y_true=backend.flatten(y_true)\n",
    "    y_pred=backend.flatten(y_pred)\n",
    "\n",
    "    # clip the prediction value to prevent NaN and Inf\n",
    "    epsilon = backend.epsilon()\n",
    "    y_pred = backend.clip(y_pred, epsilon, 1. - epsilon)\n",
    "\n",
    "    # calculate cross entropy\n",
    "    cross_entropy = -y_true * backend.log(y_pred)\n",
    "\n",
    "    # calculate focal loss\n",
    "    loss = alpha * backend.pow(1 - y_pred, gamma)*cross_entropy\n",
    "\n",
    "    intersection = backend.sum(y_true*y_pred)  \n",
    "\n",
    "    dice_loss = 1.0 - (2*intersection + smooth) / (backend.sum(y_true) + backend.sum(y_pred) + smooth)\n",
    "\n",
    "    return  50*backend.mean(loss)+dice_loss"
   ]
  },
  {
   "cell_type": "code",
   "execution_count": null,
   "id": "5028967b",
   "metadata": {},
   "outputs": [],
   "source": [
    "train_ds"
   ]
  },
  {
   "cell_type": "code",
   "execution_count": null,
   "id": "4d557707",
   "metadata": {
    "scrolled": true
   },
   "outputs": [],
   "source": [
    "from segmentation_models import Unet\n",
    "from segmentation_models import get_preprocessing\n",
    "import segmentation_models as sm\n",
    "from keras.callbacks import ModelCheckpoint, ReduceLROnPlateau,Callback\n",
    "sm.set_framework('tf.keras')\n",
    "\n",
    "# LOAD UNET WITH PRETRAINING FROM IMAGENET\n",
    "preprocess = get_preprocessing('resnet50') # for resnet, img = (img-110.0)/1.0\n",
    "model = Unet(input_shape=(128, 128, 3), classes=2, activation='relu')\n",
    "model.compile(optimizer='adam', loss=focal_dice, metrics=[dice_coef])\n",
    "\n",
    "\n",
    "\n",
    "#checkpoint to save model\n",
    "checkpoint = ModelCheckpoint(filepath='cnn.hdf5',monitor='val_dice_coef',verbose=1, save_best_only=True,mode='max')\n",
    "rlrp = ReduceLROnPlateau(monitor='val_loss', factor=0.5, patience=7, min_delta=0.00001,mode='min',verbose=0)\n",
    "callbacks = [checkpoint,rlrp]\n",
    "\n",
    "tf.cast(train_ds, tf.float32)\n",
    "\n",
    "history = model.fit(train_ds,  batch_size = BATCH_SIZE,epochs=10,  callbacks=callbacks, verbose=2)\n"
   ]
  },
  {
   "cell_type": "code",
   "execution_count": null,
   "id": "03f8f029",
   "metadata": {},
   "outputs": [],
   "source": [
    "Input_shape=(BATCH_SIZE, IMAGE_SIZE,IMAGE_SIZE, CHANNELS)\n",
    "n_classes = 2\n",
    "model = models.Sequential([\n",
    "resize_and_rescale, \n",
    "                          data_augmentation,\n",
    "                          layers.Conv2D(32, (3,3), activation='relu', input_shape=(IMAGE_SIZE,IMAGE_SIZE)),\n",
    "                          layers.MaxPooling2D((2,2)),\n",
    "                          ##########################\n",
    "                          layers.Conv2D(64, kernel_size = (3,3), activation='relu'),              \n",
    "                          layers.MaxPooling2D((2,2)),\n",
    "                          layers.Conv2D(64, kernel_size = (3,3), activation='relu'),              \n",
    "                          layers.MaxPooling2D((2,2)),\n",
    "                          layers.Conv2D(64, (3,3), activation='relu'),              \n",
    "                          layers.MaxPooling2D((2,2)),\n",
    "                          layers.Conv2D(64, (3,3), activation='relu'),              \n",
    "                          layers.MaxPooling2D((2,2)),\n",
    "                          layers.Conv2D(64, (3,3), activation='relu'),              \n",
    "                          layers.MaxPooling2D((2,2)),\n",
    "                          layers.Flatten(),\n",
    "                          layers.Dense(64, activation='relu'),\n",
    "                          layers.Dense(n_classes, activation='softmax')\n",
    "])\n",
    "model.build(input_shape=Input_shape)"
   ]
  },
  {
   "cell_type": "code",
   "execution_count": null,
   "id": "b60fddf2",
   "metadata": {},
   "outputs": [],
   "source": [
    "model.summary()\n",
    "                        "
   ]
  },
  {
   "cell_type": "code",
   "execution_count": null,
   "id": "16876417",
   "metadata": {},
   "outputs": [],
   "source": [
    "model.compile(\n",
    "    optimizer ='adam',\n",
    "    loss = tf.keras.losses.SparseCategoricalCrossentropy(from_logits=False),\n",
    "    metrics = ['accuracy']\n",
    ")"
   ]
  },
  {
   "cell_type": "code",
   "execution_count": null,
   "id": "77fad130",
   "metadata": {},
   "outputs": [],
   "source": [
    "from pathlib import Path\n",
    "import imghdr\n",
    "\n",
    "data_dir = \"/home/user/datasets/samples/\"\n",
    "image_extensions = [\".png\", \".jpg\"]  # add there all your images file extensions\n",
    "\n",
    "img_type_accepted_by_tf = [\"bmp\", \"gif\", \"jpeg\", \"png\"]\n",
    "for filepath in Path(data_dir).rglob(\"*\"):\n",
    "    if filepath.suffix.lower() in image_extensions:\n",
    "        img_type = imghdr.what(filepath)\n",
    "        if img_type is None:\n",
    "            print(f\"{filepath} is not an image\")\n",
    "        elif img_type not in img_type_accepted_by_tf:\n",
    "            print(f\"{filepath} is a {img_type}, not accepted by TensorFlow\")"
   ]
  },
  {
   "cell_type": "code",
   "execution_count": null,
   "id": "c8b5cb1d",
   "metadata": {},
   "outputs": [],
   "source": [
    "history = model.fit(\n",
    "     train_ds,\n",
    "     epochs = EPOCHS,\n",
    "     batch_size = BATCH_SIZE,\n",
    "     verbose=1,\n",
    "     validation_data=val_ds\n",
    "    \n",
    ")"
   ]
  },
  {
   "cell_type": "code",
   "execution_count": null,
   "id": "9b9d1a07",
   "metadata": {},
   "outputs": [],
   "source": [
    "# model = models.Sequential()\n",
    "# model.add(layers.Conv2D(32, (3, 3), activation='relu', input_shape=(32, 32, 3)))\n",
    "# model.add(layers.MaxPooling2D((2, 2)))\n",
    "# model.add(layers.Conv2D(64, (3, 3), activation='relu'))\n",
    "# model.add(layers.MaxPooling2D((2, 2)))\n",
    "# model.add(layers.Conv2D(64, (3, 3), activation='relu'))\n",
    "\n",
    "# model.add(layers.Flatten())\n",
    "# model.add(layers.Dense(64, activation='relu'))\n",
    "# model.add(layers.Dense(10))\n",
    "\n",
    "\n",
    "# model.compile(optimizer='adam',\n",
    "#               loss=tf.keras.losses.SparseCategoricalCrossentropy(from_logits=True),\n",
    "#               metrics=['accuracy'])\n",
    "\n",
    "# trainImages = np.asarray(trainImages)\n",
    "# trainLabels = np.asarray(trainLabels).astype('float32')\n",
    "# validationLabels = np.asarray(validationLabels).astype('float32')\n",
    "# validationImages = np.asarray(validationImages)\n",
    "\n",
    "# history = model.fit(trainImages, trainLabels, epochs=10, \n",
    "#                     validation_data=(validationImages, validationLabels))"
   ]
  },
  {
   "cell_type": "code",
   "execution_count": null,
   "id": "d1c1fda2",
   "metadata": {},
   "outputs": [],
   "source": [
    "# trainImages.shape()\n",
    "# trainLabels.shape()\n",
    "\n",
    "# validationImages.shape()\n",
    "# validationLabels.shape()"
   ]
  },
  {
   "cell_type": "code",
   "execution_count": null,
   "id": "82283767",
   "metadata": {},
   "outputs": [],
   "source": [
    "# (train_images, train_labels), (test_images, test_labels) = datasets.cifar10.load_data()\n"
   ]
  }
 ],
 "metadata": {
  "kernelspec": {
   "display_name": "Python 3 (ipykernel)",
   "language": "python",
   "name": "python3"
  },
  "language_info": {
   "codemirror_mode": {
    "name": "ipython",
    "version": 3
   },
   "file_extension": ".py",
   "mimetype": "text/x-python",
   "name": "python",
   "nbconvert_exporter": "python",
   "pygments_lexer": "ipython3",
   "version": "3.9.12"
  }
 },
 "nbformat": 4,
 "nbformat_minor": 5
}
