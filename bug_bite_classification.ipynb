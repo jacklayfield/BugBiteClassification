{
 "cells": [
  {
   "cell_type": "code",
   "execution_count": null,
   "id": "e39ba61e",
   "metadata": {},
   "outputs": [],
   "source": [
    "from IPython.display import display\n",
    "import os\n",
    "import shutil"
   ]
  },
  {
   "cell_type": "code",
   "execution_count": null,
   "id": "2d9af073",
   "metadata": {},
   "outputs": [],
   "source": [
    "import numpy as np\n",
    "import glob\n",
    "import numpy as np\n",
    "import keras\n",
    "import matplotlib.pyplot as plt\n",
    "import tensorflow as tf"
   ]
  },
  {
   "cell_type": "code",
   "execution_count": null,
   "id": "41e0d18a",
   "metadata": {},
   "outputs": [],
   "source": [
    "IMAGE_SIZE = 400\n",
    "BATCH_SIZE = 8\n",
    "CHANNELS = 3\n",
    "EPOCHS = 1"
   ]
  },
  {
   "cell_type": "code",
   "execution_count": null,
   "id": "5f510369",
   "metadata": {},
   "outputs": [],
   "source": [
    "dataset = tf.keras.preprocessing.image_dataset_from_directory(\n",
    "    \"./initial training set\", \n",
    "    shuffle=True,\n",
    "    image_size = (IMAGE_SIZE,IMAGE_SIZE),\n",
    "    batch_size = BATCH_SIZE\n",
    ")"
   ]
  },
  {
   "cell_type": "code",
   "execution_count": null,
   "id": "417b454d",
   "metadata": {},
   "outputs": [],
   "source": [
    "class_names = dataset.class_names\n",
    "class_names"
   ]
  },
  {
   "cell_type": "code",
   "execution_count": null,
   "id": "333e6d05",
   "metadata": {},
   "outputs": [],
   "source": [
    "len(dataset)"
   ]
  },
  {
   "cell_type": "code",
   "execution_count": null,
   "id": "71e34ead",
   "metadata": {},
   "outputs": [],
   "source": [
    "train_size = 0.8\n",
    "train_set_length = len(dataset) * train_size\n",
    "train_set_length"
   ]
  },
  {
   "cell_type": "code",
   "execution_count": null,
   "id": "c6e70d00",
   "metadata": {},
   "outputs": [],
   "source": [
    "train_ds= dataset.take(16)"
   ]
  },
  {
   "cell_type": "code",
   "execution_count": null,
   "id": "7a6713c0",
   "metadata": {},
   "outputs": [],
   "source": [
    "len(train_ds)"
   ]
  },
  {
   "cell_type": "code",
   "execution_count": null,
   "id": "3756c858",
   "metadata": {},
   "outputs": [],
   "source": [
    "test_ds = dataset.skip(16) \n",
    "len(test_ds)"
   ]
  },
  {
   "cell_type": "code",
   "execution_count": null,
   "id": "b93b5465",
   "metadata": {},
   "outputs": [],
   "source": [
    "val_size = 0.1\n",
    "len(dataset)*val_size"
   ]
  },
  {
   "cell_type": "code",
   "execution_count": null,
   "id": "86923ddb",
   "metadata": {},
   "outputs": [],
   "source": [
    "val_ds = test_ds.take(2)"
   ]
  },
  {
   "cell_type": "code",
   "execution_count": null,
   "id": "711d4457",
   "metadata": {},
   "outputs": [],
   "source": [
    "len(val_ds)"
   ]
  },
  {
   "cell_type": "code",
   "execution_count": null,
   "id": "aa101afa",
   "metadata": {},
   "outputs": [],
   "source": [
    "test_ds = test_ds.skip(2)\n",
    "len(test_ds)"
   ]
  },
  {
   "cell_type": "code",
   "execution_count": null,
   "id": "c1487c16",
   "metadata": {},
   "outputs": [],
   "source": [
    "def get_dataset_partitions_tf(ds, train_split=0.8, val_split= 0.1, test_split = 0.1, shuffle=True, shuffle_size =10000):\n",
    "    ds_size = len(ds)\n",
    "    if shuffle:\n",
    "        ds=ds.shuffle(shuffle_size,seed=12)\n",
    "    \n",
    "    train_size = int(train_split * ds_size)\n",
    "    val_size = int(val_split * ds_size)\n",
    "    train_ds = ds.take(train_size)\n",
    "    val_ds = ds.skip(train_size).take(val_size)\n",
    "    test_ds = ds.skip(train_size).skip(val_size)\n",
    "    \n",
    "    return train_ds, val_ds, test_ds"
   ]
  },
  {
   "cell_type": "code",
   "execution_count": null,
   "id": "eee20475",
   "metadata": {},
   "outputs": [],
   "source": [
    "train_ds, val_ds, test_ds = get_dataset_partitions_tf(dataset)"
   ]
  },
  {
   "cell_type": "code",
   "execution_count": null,
   "id": "a3f1e606",
   "metadata": {},
   "outputs": [],
   "source": [
    "len(train_ds)\n",
    "len(val_ds)\n",
    "len(test_ds)"
   ]
  },
  {
   "cell_type": "code",
   "execution_count": null,
   "id": "6175c354",
   "metadata": {},
   "outputs": [],
   "source": [
    "train_ds = train_ds.cache().shuffle(1000).prefetch(buffer_size = tf.data.AUTOTUNE)\n",
    "val_ds = val_ds.cache().shuffle(1000).prefetch(buffer_size = tf.data.AUTOTUNE)\n",
    "test_ds = test_ds.cache().shuffle(1000).prefetch(buffer_size = tf.data.AUTOTUNE)"
   ]
  },
  {
   "cell_type": "code",
   "execution_count": null,
   "id": "a4aa2280",
   "metadata": {},
   "outputs": [],
   "source": [
    "from tensorflow.keras import models, layers"
   ]
  },
  {
   "cell_type": "code",
   "execution_count": null,
   "id": "c3a82e4c",
   "metadata": {},
   "outputs": [],
   "source": [
    "resize_and_rescale = tf.keras.Sequential([\n",
    "    layers.experimental.preprocessing.Resizing(IMAGE_SIZE,IMAGE_SIZE),\n",
    "    layers.experimental.preprocessing.Rescaling(1.0/255)\n",
    "])"
   ]
  },
  {
   "cell_type": "code",
   "execution_count": null,
   "id": "ac7644f8",
   "metadata": {},
   "outputs": [],
   "source": [
    "data_augmentation = tf.keras.Sequential([\n",
    "    layers.experimental.preprocessing.RandomFlip(\"horizontal_and_vertical\"),\n",
    "    layers.experimental.preprocessing.RandomRotation(0.2) \n",
    "])"
   ]
  },
  {
   "cell_type": "code",
   "execution_count": null,
   "id": "03f8f029",
   "metadata": {},
   "outputs": [],
   "source": [
    "Input_shape=(BATCH_SIZE, IMAGE_SIZE,IMAGE_SIZE, CHANNELS)\n",
    "n_classes = 2\n",
    "model = models.Sequential([\n",
    "resize_and_rescale, \n",
    "                          data_augmentation,\n",
    "                          layers.Conv2D(32, (3,3), activation='relu', input_shape=(IMAGE_SIZE,IMAGE_SIZE)),\n",
    "                          layers.MaxPooling2D((2,2)),\n",
    "                          ##########################\n",
    "                          layers.Conv2D(64, kernel_size = (3,3), activation='relu'),              \n",
    "                          layers.MaxPooling2D((2,2)),\n",
    "                          layers.Conv2D(64, kernel_size = (3,3), activation='relu'),              \n",
    "                          layers.MaxPooling2D((2,2)),\n",
    "                          layers.Conv2D(64, (3,3), activation='relu'),              \n",
    "                          layers.MaxPooling2D((2,2)),\n",
    "                          layers.Conv2D(64, (3,3), activation='relu'),              \n",
    "                          layers.MaxPooling2D((2,2)),\n",
    "                          layers.Conv2D(64, (3,3), activation='relu'),              \n",
    "                          layers.MaxPooling2D((2,2)),\n",
    "                          layers.Flatten(),\n",
    "                          layers.Dense(64, activation='relu'),\n",
    "                          layers.Dense(n_classes, activation='softmax')\n",
    "])\n",
    "model.build(input_shape=Input_shape)"
   ]
  },
  {
   "cell_type": "code",
   "execution_count": null,
   "id": "b60fddf2",
   "metadata": {},
   "outputs": [],
   "source": [
    "model.summary()\n",
    "                        "
   ]
  },
  {
   "cell_type": "code",
   "execution_count": null,
   "id": "9c817536",
   "metadata": {},
   "outputs": [],
   "source": [
    "model.compile(\n",
    "    optimizer ='adam',\n",
    "    loss = tf.keras.losses.SparseCategoricalCrossentropy(from_logits=False),\n",
    "    metrics = ['accuracy']\n",
    ")"
   ]
  },
  {
   "cell_type": "code",
   "execution_count": null,
   "id": "c8b5cb1d",
   "metadata": {},
   "outputs": [],
   "source": [
    "# history = model.fit(\n",
    "#     train_ds,\n",
    "#     epochs = EPOCHS,\n",
    "#     batch_size = BATCH_SIZE,\n",
    "#     verbose=1,\n",
    "#     validation_data=val_ds\n",
    "    \n",
    "# )"
   ]
  },
  {
   "cell_type": "code",
   "execution_count": null,
   "id": "9b9d1a07",
   "metadata": {},
   "outputs": [],
   "source": [
    "# model = models.Sequential()\n",
    "# model.add(layers.Conv2D(32, (3, 3), activation='relu', input_shape=(32, 32, 3)))\n",
    "# model.add(layers.MaxPooling2D((2, 2)))\n",
    "# model.add(layers.Conv2D(64, (3, 3), activation='relu'))\n",
    "# model.add(layers.MaxPooling2D((2, 2)))\n",
    "# model.add(layers.Conv2D(64, (3, 3), activation='relu'))\n",
    "\n",
    "# model.add(layers.Flatten())\n",
    "# model.add(layers.Dense(64, activation='relu'))\n",
    "# model.add(layers.Dense(10))\n",
    "\n",
    "\n",
    "# model.compile(optimizer='adam',\n",
    "#               loss=tf.keras.losses.SparseCategoricalCrossentropy(from_logits=True),\n",
    "#               metrics=['accuracy'])\n",
    "\n",
    "# trainImages = np.asarray(trainImages)\n",
    "# trainLabels = np.asarray(trainLabels).astype('float32')\n",
    "# validationLabels = np.asarray(validationLabels).astype('float32')\n",
    "# validationImages = np.asarray(validationImages)\n",
    "\n",
    "# history = model.fit(trainImages, trainLabels, epochs=10, \n",
    "#                     validation_data=(validationImages, validationLabels))"
   ]
  },
  {
   "cell_type": "code",
   "execution_count": null,
   "id": "d1c1fda2",
   "metadata": {},
   "outputs": [],
   "source": [
    "# trainImages.shape()\n",
    "# trainLabels.shape()\n",
    "\n",
    "# validationImages.shape()\n",
    "# validationLabels.shape()"
   ]
  },
  {
   "cell_type": "code",
   "execution_count": null,
   "id": "82283767",
   "metadata": {},
   "outputs": [],
   "source": [
    "# (train_images, train_labels), (test_images, test_labels) = datasets.cifar10.load_data()\n"
   ]
  }
 ],
 "metadata": {
  "kernelspec": {
   "display_name": "Python 3 (ipykernel)",
   "language": "python",
   "name": "python3"
  },
  "language_info": {
   "codemirror_mode": {
    "name": "ipython",
    "version": 3
   },
   "file_extension": ".py",
   "mimetype": "text/x-python",
   "name": "python",
   "nbconvert_exporter": "python",
   "pygments_lexer": "ipython3",
   "version": "3.10.8"
  }
 },
 "nbformat": 4,
 "nbformat_minor": 5
}
