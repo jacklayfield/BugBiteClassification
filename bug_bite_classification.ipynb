{
 "cells": [
  {
   "cell_type": "code",
   "execution_count": 108,
   "id": "e39ba61e",
   "metadata": {},
   "outputs": [],
   "source": [
    "from IPython.display import display\n",
    "import os\n",
    "import shutil"
   ]
  },
  {
   "cell_type": "code",
   "execution_count": 109,
   "id": "2d9af073",
   "metadata": {},
   "outputs": [],
   "source": [
    "import numpy as np\n",
    "import glob\n",
    "import numpy as np\n",
    "import keras\n",
    "import matplotlib.pyplot as plt\n",
    "import tensorflow as tf"
   ]
  },
  {
   "cell_type": "code",
   "execution_count": 110,
   "id": "41e0d18a",
   "metadata": {},
   "outputs": [],
   "source": [
    "IMAGE_SIZE = 256\n",
    "BATCH_SIZE = 8\n",
    "CHANNELS = 3\n",
    "EPOCHS = 50"
   ]
  },
  {
   "cell_type": "code",
   "execution_count": 111,
   "id": "5f510369",
   "metadata": {},
   "outputs": [
    {
     "name": "stdout",
     "output_type": "stream",
     "text": [
      "Found 149 files belonging to 2 classes.\n"
     ]
    }
   ],
   "source": [
    "dataset = tf.keras.preprocessing.image_dataset_from_directory(\n",
    "    \"./initial training set\", \n",
    "    shuffle=True,\n",
    "    image_size = (IMAGE_SIZE,IMAGE_SIZE),\n",
    "    batch_size = BATCH_SIZE\n",
    ")"
   ]
  },
  {
   "cell_type": "code",
   "execution_count": 112,
   "id": "417b454d",
   "metadata": {},
   "outputs": [
    {
     "data": {
      "text/plain": [
       "['mosquito bites on skin', 'tick bites on skin']"
      ]
     },
     "execution_count": 112,
     "metadata": {},
     "output_type": "execute_result"
    }
   ],
   "source": [
    "class_names = dataset.class_names\n",
    "class_names"
   ]
  },
  {
   "cell_type": "code",
   "execution_count": 113,
   "id": "333e6d05",
   "metadata": {},
   "outputs": [
    {
     "data": {
      "text/plain": [
       "19"
      ]
     },
     "execution_count": 113,
     "metadata": {},
     "output_type": "execute_result"
    }
   ],
   "source": [
    "len(dataset)"
   ]
  },
  {
   "cell_type": "code",
   "execution_count": 114,
   "id": "71e34ead",
   "metadata": {},
   "outputs": [
    {
     "data": {
      "text/plain": [
       "15.200000000000001"
      ]
     },
     "execution_count": 114,
     "metadata": {},
     "output_type": "execute_result"
    }
   ],
   "source": [
    "train_size = 0.8\n",
    "train_set_length = len(dataset) * train_size\n",
    "train_set_length"
   ]
  },
  {
   "cell_type": "code",
   "execution_count": 115,
   "id": "c6e70d00",
   "metadata": {},
   "outputs": [],
   "source": [
    "train_ds= dataset.take(16)"
   ]
  },
  {
   "cell_type": "code",
   "execution_count": 116,
   "id": "7a6713c0",
   "metadata": {},
   "outputs": [
    {
     "data": {
      "text/plain": [
       "16"
      ]
     },
     "execution_count": 116,
     "metadata": {},
     "output_type": "execute_result"
    }
   ],
   "source": [
    "len(train_ds)"
   ]
  },
  {
   "cell_type": "code",
   "execution_count": 117,
   "id": "3756c858",
   "metadata": {},
   "outputs": [
    {
     "data": {
      "text/plain": [
       "3"
      ]
     },
     "execution_count": 117,
     "metadata": {},
     "output_type": "execute_result"
    }
   ],
   "source": [
    "test_ds = dataset.skip(16) \n",
    "len(test_ds)"
   ]
  },
  {
   "cell_type": "code",
   "execution_count": 118,
   "id": "b93b5465",
   "metadata": {},
   "outputs": [
    {
     "data": {
      "text/plain": [
       "1.9000000000000001"
      ]
     },
     "execution_count": 118,
     "metadata": {},
     "output_type": "execute_result"
    }
   ],
   "source": [
    "val_size = 0.1\n",
    "len(dataset)*val_size"
   ]
  },
  {
   "cell_type": "code",
   "execution_count": 119,
   "id": "86923ddb",
   "metadata": {},
   "outputs": [],
   "source": [
    "val_ds = test_ds.take(2)"
   ]
  },
  {
   "cell_type": "code",
   "execution_count": 120,
   "id": "711d4457",
   "metadata": {},
   "outputs": [
    {
     "data": {
      "text/plain": [
       "2"
      ]
     },
     "execution_count": 120,
     "metadata": {},
     "output_type": "execute_result"
    }
   ],
   "source": [
    "len(val_ds)"
   ]
  },
  {
   "cell_type": "code",
   "execution_count": 121,
   "id": "aa101afa",
   "metadata": {},
   "outputs": [
    {
     "data": {
      "text/plain": [
       "1"
      ]
     },
     "execution_count": 121,
     "metadata": {},
     "output_type": "execute_result"
    }
   ],
   "source": [
    "test_ds = test_ds.skip(2)\n",
    "len(test_ds)"
   ]
  },
  {
   "cell_type": "code",
   "execution_count": 122,
   "id": "c1487c16",
   "metadata": {},
   "outputs": [],
   "source": [
    "def get_dataset_partitions_tf(ds, train_split=0.8, val_split= 0.1, test_split = 0.1, shuffle=True, shuffle_size =10000):\n",
    "    ds_size = len(ds)\n",
    "    if shuffle:\n",
    "        ds=ds.shuffle(shuffle_size,seed=12)\n",
    "    \n",
    "    train_size = int(train_split * ds_size)\n",
    "    val_size = int(val_split * ds_size)\n",
    "    train_ds = ds.take(train_size)\n",
    "    val_ds = ds.skip(train_size).take(val_size)\n",
    "    test_ds = ds.skip(train_size).skip(val_size)\n",
    "    \n",
    "    return train_ds, val_ds, test_ds"
   ]
  },
  {
   "cell_type": "code",
   "execution_count": 123,
   "id": "eee20475",
   "metadata": {},
   "outputs": [],
   "source": [
    "train_ds, val_ds, test_ds = get_dataset_partitions_tf(dataset)"
   ]
  },
  {
   "cell_type": "code",
   "execution_count": 124,
   "id": "a3f1e606",
   "metadata": {},
   "outputs": [
    {
     "data": {
      "text/plain": [
       "3"
      ]
     },
     "execution_count": 124,
     "metadata": {},
     "output_type": "execute_result"
    }
   ],
   "source": [
    "len(train_ds)\n",
    "len(val_ds)\n",
    "len(test_ds)"
   ]
  },
  {
   "cell_type": "code",
   "execution_count": 125,
   "id": "6175c354",
   "metadata": {},
   "outputs": [],
   "source": [
    "train_ds = train_ds.cache().shuffle(1000).prefetch(buffer_size = tf.data.AUTOTUNE)\n",
    "val_ds = val_ds.cache().shuffle(1000).prefetch(buffer_size = tf.data.AUTOTUNE)\n",
    "test_ds = test_ds.cache().shuffle(1000).prefetch(buffer_size = tf.data.AUTOTUNE)"
   ]
  },
  {
   "cell_type": "code",
   "execution_count": 126,
   "id": "a4aa2280",
   "metadata": {},
   "outputs": [],
   "source": [
    "from tensorflow.keras import models, layers"
   ]
  },
  {
   "cell_type": "code",
   "execution_count": 127,
   "id": "c3a82e4c",
   "metadata": {},
   "outputs": [],
   "source": [
    "resize_and_rescale = tf.keras.Sequential([\n",
    "    layers.experimental.preprocessing.Resizing(IMAGE_SIZE,IMAGE_SIZE),\n",
    "    layers.experimental.preprocessing.Rescaling(1.0/255)\n",
    "])"
   ]
  },
  {
   "cell_type": "code",
   "execution_count": 128,
   "id": "698ed14e",
   "metadata": {},
   "outputs": [],
   "source": [
    "data_augmentation = tf.keras.Sequential([\n",
    "    layers.experimental.preprocessing.RandomFlip(\"horizontal_and_vertical\"),\n",
    "    layers.experimental.preprocessing.RandomRotation(0.2) \n",
    "])"
   ]
  },
  {
   "cell_type": "code",
   "execution_count": 78,
   "id": "e12714d3",
   "metadata": {},
   "outputs": [],
   "source": [
    "import PIL\n",
    "import os\n",
    "from PIL import Image\n",
    "\n",
    "f = r'./initial training set/mosquito bites on skin'\n",
    "for file in os.listdir(f):\n",
    "    f_img = f+\"/\"+file\n",
    "    img = Image.open(f_img)\n",
    "    img = img.resize((128,128))\n",
    "    img.save(f_img)\n",
    "\n",
    "f = r'./initial training set/tick bites on skin'\n",
    "for file in os.listdir(f):\n",
    "    f_img = f+\"/\"+file\n",
    "    img = Image.open(f_img)\n",
    "    img = img.resize((128,128))\n",
    "    img.save(f_img)    "
   ]
  },
  {
   "cell_type": "code",
   "execution_count": null,
   "id": "ac7644f8",
   "metadata": {},
   "outputs": [],
   "source": []
  },
  {
   "cell_type": "code",
   "execution_count": 79,
   "id": "59909178",
   "metadata": {},
   "outputs": [],
   "source": [
    "from keras import backend as K\n",
    "# https://www.kaggle.com/xhlulu/severstal-simple-keras-u-net-boilerplate\n",
    "\n",
    "# COMPETITION METRIC\n",
    "def dice_coef(y_true, y_pred, smooth=1):\n",
    "    y_true_f = K.flatten(y_true)\n",
    "    y_pred_f = K.flatten(y_pred)\n",
    "    intersection = K.sum(y_true_f * y_pred_f)\n",
    "    return (2. * intersection + smooth) / (K.sum(y_true_f) + K.sum(y_pred_f) + smooth)"
   ]
  },
  {
   "cell_type": "code",
   "execution_count": 80,
   "id": "bb3740da",
   "metadata": {},
   "outputs": [],
   "source": [
    "from tensorflow.keras import backend\n",
    "def focal_dice(y_true, y_pred,smooth=1e-6):\n",
    "    \"\"\"https://github.com/umbertogriffo/focal-loss-keras/blob/master/src/loss_function/losses.py\"\"\"\n",
    "    gamma = 2.0\n",
    "    alpha = .25\n",
    "\n",
    "    y_true=backend.flatten(y_true)\n",
    "    y_pred=backend.flatten(y_pred)\n",
    "\n",
    "    # clip the prediction value to prevent NaN and Inf\n",
    "    epsilon = backend.epsilon()\n",
    "    y_pred = backend.clip(y_pred, epsilon, 1. - epsilon)\n",
    "\n",
    "    # calculate cross entropy\n",
    "    cross_entropy = -y_true * backend.log(y_pred)\n",
    "\n",
    "    # calculate focal loss\n",
    "    loss = alpha * backend.pow(1 - y_pred, gamma)*cross_entropy\n",
    "\n",
    "    intersection = backend.sum(y_true*y_pred)  \n",
    "\n",
    "    dice_loss = 1.0 - (2*intersection + smooth) / (backend.sum(y_true) + backend.sum(y_pred) + smooth)\n",
    "\n",
    "    return  50*backend.mean(loss)+dice_loss"
   ]
  },
  {
   "cell_type": "code",
   "execution_count": null,
   "id": "5b89bf1c",
   "metadata": {},
   "outputs": [],
   "source": [
    "train_ds"
   ]
  },
  {
   "cell_type": "code",
   "execution_count": 82,
   "id": "fdde0f0e",
   "metadata": {
    "scrolled": true
   },
   "outputs": [
    {
     "ename": "ValueError",
     "evalue": "Attempt to convert a value (<PrefetchDataset element_spec=(TensorSpec(shape=(None, 128, 128, 3), dtype=tf.float32, name=None), TensorSpec(shape=(None,), dtype=tf.int32, name=None))>) with an unsupported type (<class 'tensorflow.python.data.ops.dataset_ops.PrefetchDataset'>) to a Tensor.",
     "output_type": "error",
     "traceback": [
      "\u001b[1;31m---------------------------------------------------------------------------\u001b[0m",
      "\u001b[1;31mValueError\u001b[0m                                Traceback (most recent call last)",
      "Input \u001b[1;32mIn [82]\u001b[0m, in \u001b[0;36m<cell line: 19>\u001b[1;34m()\u001b[0m\n\u001b[0;32m     16\u001b[0m rlrp \u001b[38;5;241m=\u001b[39m ReduceLROnPlateau(monitor\u001b[38;5;241m=\u001b[39m\u001b[38;5;124m'\u001b[39m\u001b[38;5;124mval_loss\u001b[39m\u001b[38;5;124m'\u001b[39m, factor\u001b[38;5;241m=\u001b[39m\u001b[38;5;241m0.5\u001b[39m, patience\u001b[38;5;241m=\u001b[39m\u001b[38;5;241m7\u001b[39m, min_delta\u001b[38;5;241m=\u001b[39m\u001b[38;5;241m0.00001\u001b[39m,mode\u001b[38;5;241m=\u001b[39m\u001b[38;5;124m'\u001b[39m\u001b[38;5;124mmin\u001b[39m\u001b[38;5;124m'\u001b[39m,verbose\u001b[38;5;241m=\u001b[39m\u001b[38;5;241m0\u001b[39m)\n\u001b[0;32m     17\u001b[0m callbacks \u001b[38;5;241m=\u001b[39m [checkpoint,rlrp]\n\u001b[1;32m---> 19\u001b[0m \u001b[43mtf\u001b[49m\u001b[38;5;241;43m.\u001b[39;49m\u001b[43mcast\u001b[49m\u001b[43m(\u001b[49m\u001b[43mtrain_ds\u001b[49m\u001b[43m,\u001b[49m\u001b[43m \u001b[49m\u001b[43mtf\u001b[49m\u001b[38;5;241;43m.\u001b[39;49m\u001b[43mfloat32\u001b[49m\u001b[43m)\u001b[49m\n\u001b[0;32m     21\u001b[0m history \u001b[38;5;241m=\u001b[39m model\u001b[38;5;241m.\u001b[39mfit(train_ds,  batch_size \u001b[38;5;241m=\u001b[39m BATCH_SIZE,epochs\u001b[38;5;241m=\u001b[39m\u001b[38;5;241m10\u001b[39m,  callbacks\u001b[38;5;241m=\u001b[39mcallbacks, verbose\u001b[38;5;241m=\u001b[39m\u001b[38;5;241m2\u001b[39m)\n",
      "File \u001b[1;32m~\\anaconda3\\lib\\site-packages\\tensorflow\\python\\util\\traceback_utils.py:153\u001b[0m, in \u001b[0;36mfilter_traceback.<locals>.error_handler\u001b[1;34m(*args, **kwargs)\u001b[0m\n\u001b[0;32m    151\u001b[0m \u001b[38;5;28;01mexcept\u001b[39;00m \u001b[38;5;167;01mException\u001b[39;00m \u001b[38;5;28;01mas\u001b[39;00m e:\n\u001b[0;32m    152\u001b[0m   filtered_tb \u001b[38;5;241m=\u001b[39m _process_traceback_frames(e\u001b[38;5;241m.\u001b[39m__traceback__)\n\u001b[1;32m--> 153\u001b[0m   \u001b[38;5;28;01mraise\u001b[39;00m e\u001b[38;5;241m.\u001b[39mwith_traceback(filtered_tb) \u001b[38;5;28;01mfrom\u001b[39;00m \u001b[38;5;28mNone\u001b[39m\n\u001b[0;32m    154\u001b[0m \u001b[38;5;28;01mfinally\u001b[39;00m:\n\u001b[0;32m    155\u001b[0m   \u001b[38;5;28;01mdel\u001b[39;00m filtered_tb\n",
      "File \u001b[1;32m~\\anaconda3\\lib\\site-packages\\tensorflow\\python\\framework\\constant_op.py:102\u001b[0m, in \u001b[0;36mconvert_to_eager_tensor\u001b[1;34m(value, ctx, dtype)\u001b[0m\n\u001b[0;32m    100\u001b[0m     dtype \u001b[38;5;241m=\u001b[39m dtypes\u001b[38;5;241m.\u001b[39mas_dtype(dtype)\u001b[38;5;241m.\u001b[39mas_datatype_enum\n\u001b[0;32m    101\u001b[0m ctx\u001b[38;5;241m.\u001b[39mensure_initialized()\n\u001b[1;32m--> 102\u001b[0m \u001b[38;5;28;01mreturn\u001b[39;00m \u001b[43mops\u001b[49m\u001b[38;5;241;43m.\u001b[39;49m\u001b[43mEagerTensor\u001b[49m\u001b[43m(\u001b[49m\u001b[43mvalue\u001b[49m\u001b[43m,\u001b[49m\u001b[43m \u001b[49m\u001b[43mctx\u001b[49m\u001b[38;5;241;43m.\u001b[39;49m\u001b[43mdevice_name\u001b[49m\u001b[43m,\u001b[49m\u001b[43m \u001b[49m\u001b[43mdtype\u001b[49m\u001b[43m)\u001b[49m\n",
      "\u001b[1;31mValueError\u001b[0m: Attempt to convert a value (<PrefetchDataset element_spec=(TensorSpec(shape=(None, 128, 128, 3), dtype=tf.float32, name=None), TensorSpec(shape=(None,), dtype=tf.int32, name=None))>) with an unsupported type (<class 'tensorflow.python.data.ops.dataset_ops.PrefetchDataset'>) to a Tensor."
     ]
    }
   ],
   "source": [
    "from segmentation_models import Unet\n",
    "from segmentation_models import get_preprocessing\n",
    "import segmentation_models as sm\n",
    "from keras.callbacks import ModelCheckpoint, ReduceLROnPlateau,Callback\n",
    "sm.set_framework('tf.keras')\n",
    "\n",
    "# LOAD UNET WITH PRETRAINING FROM IMAGENET\n",
    "preprocess = get_preprocessing('resnet50') # for resnet, img = (img-110.0)/1.0\n",
    "model = Unet(input_shape=(128, 128, 3), classes=2, activation='relu')\n",
    "model.compile(optimizer='adam', loss=focal_dice, metrics=[dice_coef])\n",
    "\n",
    "\n",
    "\n",
    "#checkpoint to save model\n",
    "checkpoint = ModelCheckpoint(filepath='cnn.hdf5',monitor='val_dice_coef',verbose=1, save_best_only=True,mode='max')\n",
    "rlrp = ReduceLROnPlateau(monitor='val_loss', factor=0.5, patience=7, min_delta=0.00001,mode='min',verbose=0)\n",
    "callbacks = [checkpoint,rlrp]\n",
    "\n",
    "tf.cast(train_ds, tf.float32)\n",
    "\n",
    "history = model.fit(train_ds,  batch_size = BATCH_SIZE,epochs=10,  callbacks=callbacks, verbose=2)\n"
   ]
  },
  {
   "cell_type": "code",
   "execution_count": 129,
   "id": "03f8f029",
   "metadata": {},
   "outputs": [],
   "source": [
    "Input_shape=(BATCH_SIZE, IMAGE_SIZE,IMAGE_SIZE, CHANNELS)\n",
    "n_classes = 2\n",
    "model = models.Sequential([\n",
    "resize_and_rescale, \n",
    "                          data_augmentation,\n",
    "                          layers.Conv2D(32, (3,3), activation='relu', input_shape=(IMAGE_SIZE,IMAGE_SIZE)),\n",
    "                          layers.MaxPooling2D((2,2)),\n",
    "                          ##########################\n",
    "                          layers.Conv2D(64, kernel_size = (3,3), activation='relu'),              \n",
    "                          layers.MaxPooling2D((2,2)),\n",
    "                          layers.Conv2D(64, kernel_size = (3,3), activation='relu'),              \n",
    "                          layers.MaxPooling2D((2,2)),\n",
    "                          layers.Conv2D(64, (3,3), activation='relu'),              \n",
    "                          layers.MaxPooling2D((2,2)),\n",
    "                          layers.Conv2D(64, (3,3), activation='relu'),              \n",
    "                          layers.MaxPooling2D((2,2)),\n",
    "                          layers.Conv2D(64, (3,3), activation='relu'),              \n",
    "                          layers.MaxPooling2D((2,2)),\n",
    "                          layers.Flatten(),\n",
    "                          layers.Dense(64, activation='relu'),\n",
    "                          layers.Dense(n_classes, activation='softmax')\n",
    "])\n",
    "model.build(input_shape=Input_shape)"
   ]
  },
  {
   "cell_type": "code",
   "execution_count": 130,
   "id": "b60fddf2",
   "metadata": {},
   "outputs": [
    {
     "name": "stdout",
     "output_type": "stream",
     "text": [
      "Model: \"sequential_11\"\n",
      "_________________________________________________________________\n",
      " Layer (type)                Output Shape              Param #   \n",
      "=================================================================\n",
      " sequential_9 (Sequential)   (8, 256, 256, 3)          0         \n",
      "                                                                 \n",
      " sequential_10 (Sequential)  (8, 256, 256, 3)          0         \n",
      "                                                                 \n",
      " conv2d_12 (Conv2D)          (8, 254, 254, 32)         896       \n",
      "                                                                 \n",
      " max_pooling2d_12 (MaxPoolin  (8, 127, 127, 32)        0         \n",
      " g2D)                                                            \n",
      "                                                                 \n",
      " conv2d_13 (Conv2D)          (8, 125, 125, 64)         18496     \n",
      "                                                                 \n",
      " max_pooling2d_13 (MaxPoolin  (8, 62, 62, 64)          0         \n",
      " g2D)                                                            \n",
      "                                                                 \n",
      " conv2d_14 (Conv2D)          (8, 60, 60, 64)           36928     \n",
      "                                                                 \n",
      " max_pooling2d_14 (MaxPoolin  (8, 30, 30, 64)          0         \n",
      " g2D)                                                            \n",
      "                                                                 \n",
      " conv2d_15 (Conv2D)          (8, 28, 28, 64)           36928     \n",
      "                                                                 \n",
      " max_pooling2d_15 (MaxPoolin  (8, 14, 14, 64)          0         \n",
      " g2D)                                                            \n",
      "                                                                 \n",
      " conv2d_16 (Conv2D)          (8, 12, 12, 64)           36928     \n",
      "                                                                 \n",
      " max_pooling2d_16 (MaxPoolin  (8, 6, 6, 64)            0         \n",
      " g2D)                                                            \n",
      "                                                                 \n",
      " conv2d_17 (Conv2D)          (8, 4, 4, 64)             36928     \n",
      "                                                                 \n",
      " max_pooling2d_17 (MaxPoolin  (8, 2, 2, 64)            0         \n",
      " g2D)                                                            \n",
      "                                                                 \n",
      " flatten_2 (Flatten)         (8, 256)                  0         \n",
      "                                                                 \n",
      " dense_4 (Dense)             (8, 64)                   16448     \n",
      "                                                                 \n",
      " dense_5 (Dense)             (8, 2)                    130       \n",
      "                                                                 \n",
      "=================================================================\n",
      "Total params: 183,682\n",
      "Trainable params: 183,682\n",
      "Non-trainable params: 0\n",
      "_________________________________________________________________\n"
     ]
    }
   ],
   "source": [
    "model.summary()\n",
    "                        "
   ]
  },
  {
   "cell_type": "code",
   "execution_count": 131,
   "id": "30518d4a",
   "metadata": {},
   "outputs": [],
   "source": [
    "model.compile(\n",
    "    optimizer ='adam',\n",
    "    loss = tf.keras.losses.SparseCategoricalCrossentropy(from_logits=False),\n",
    "    metrics = ['accuracy']\n",
    ")"
   ]
  },
  {
   "cell_type": "code",
   "execution_count": 27,
   "id": "77fad130",
   "metadata": {},
   "outputs": [],
   "source": [
    "from pathlib import Path\n",
    "import imghdr\n",
    "\n",
    "data_dir = \"/home/user/datasets/samples/\"\n",
    "image_extensions = [\".png\", \".jpg\"]  # add there all your images file extensions\n",
    "\n",
    "img_type_accepted_by_tf = [\"bmp\", \"gif\", \"jpeg\", \"png\"]\n",
    "for filepath in Path(data_dir).rglob(\"*\"):\n",
    "    if filepath.suffix.lower() in image_extensions:\n",
    "        img_type = imghdr.what(filepath)\n",
    "        if img_type is None:\n",
    "            print(f\"{filepath} is not an image\")\n",
    "        elif img_type not in img_type_accepted_by_tf:\n",
    "            print(f\"{filepath} is a {img_type}, not accepted by TensorFlow\")"
   ]
  },
  {
   "cell_type": "code",
   "execution_count": 132,
   "id": "c8b5cb1d",
   "metadata": {},
   "outputs": [
    {
     "name": "stdout",
     "output_type": "stream",
     "text": [
      "Epoch 1/50\n",
      "WARNING:tensorflow:Using a while_loop for converting RngReadAndSkip cause there is no registered converter for this op.\n",
      "WARNING:tensorflow:Using a while_loop for converting Bitcast cause there is no registered converter for this op.\n",
      "WARNING:tensorflow:Using a while_loop for converting Bitcast cause there is no registered converter for this op.\n",
      "WARNING:tensorflow:Using a while_loop for converting StatelessRandomUniformV2 cause there is no registered converter for this op.\n",
      "WARNING:tensorflow:Using a while_loop for converting ImageProjectiveTransformV3 cause there is no registered converter for this op.\n",
      "WARNING:tensorflow:Using a while_loop for converting RngReadAndSkip cause there is no registered converter for this op.\n",
      "WARNING:tensorflow:Using a while_loop for converting Bitcast cause there is no registered converter for this op.\n",
      "WARNING:tensorflow:Using a while_loop for converting Bitcast cause there is no registered converter for this op.\n",
      "WARNING:tensorflow:Using a while_loop for converting StatelessRandomUniformV2 cause there is no registered converter for this op.\n",
      "WARNING:tensorflow:Using a while_loop for converting ImageProjectiveTransformV3 cause there is no registered converter for this op.\n",
      "WARNING:tensorflow:Using a while_loop for converting RngReadAndSkip cause there is no registered converter for this op.\n",
      "WARNING:tensorflow:Using a while_loop for converting Bitcast cause there is no registered converter for this op.\n",
      "WARNING:tensorflow:Using a while_loop for converting Bitcast cause there is no registered converter for this op.\n",
      "WARNING:tensorflow:Using a while_loop for converting StatelessRandomUniformV2 cause there is no registered converter for this op.\n",
      "WARNING:tensorflow:Using a while_loop for converting ImageProjectiveTransformV3 cause there is no registered converter for this op.\n",
      "WARNING:tensorflow:Using a while_loop for converting RngReadAndSkip cause there is no registered converter for this op.\n",
      "WARNING:tensorflow:Using a while_loop for converting Bitcast cause there is no registered converter for this op.\n",
      "WARNING:tensorflow:Using a while_loop for converting Bitcast cause there is no registered converter for this op.\n",
      "WARNING:tensorflow:Using a while_loop for converting StatelessRandomUniformV2 cause there is no registered converter for this op.\n",
      "WARNING:tensorflow:Using a while_loop for converting ImageProjectiveTransformV3 cause there is no registered converter for this op.\n",
      "15/15 [==============================] - 7s 296ms/step - loss: 0.6949 - accuracy: 0.5083 - val_loss: 0.6871 - val_accuracy: 0.5000\n",
      "Epoch 2/50\n",
      "15/15 [==============================] - 4s 277ms/step - loss: 0.6975 - accuracy: 0.5250 - val_loss: 0.6856 - val_accuracy: 0.5000\n",
      "Epoch 3/50\n",
      "15/15 [==============================] - 4s 284ms/step - loss: 0.6894 - accuracy: 0.5250 - val_loss: 0.6813 - val_accuracy: 0.5000\n",
      "Epoch 4/50\n",
      "15/15 [==============================] - 4s 277ms/step - loss: 0.6992 - accuracy: 0.4917 - val_loss: 0.6914 - val_accuracy: 0.6250\n",
      "Epoch 5/50\n",
      "15/15 [==============================] - 4s 279ms/step - loss: 0.6913 - accuracy: 0.5417 - val_loss: 0.6854 - val_accuracy: 0.5000\n",
      "Epoch 6/50\n",
      "15/15 [==============================] - 4s 284ms/step - loss: 0.6949 - accuracy: 0.5083 - val_loss: 0.6908 - val_accuracy: 0.6250\n",
      "Epoch 7/50\n",
      "15/15 [==============================] - 4s 283ms/step - loss: 0.6919 - accuracy: 0.5333 - val_loss: 0.6802 - val_accuracy: 0.5000\n",
      "Epoch 8/50\n",
      "15/15 [==============================] - 4s 278ms/step - loss: 0.6643 - accuracy: 0.5833 - val_loss: 0.7268 - val_accuracy: 0.5000\n",
      "Epoch 9/50\n",
      "15/15 [==============================] - 4s 282ms/step - loss: 0.6669 - accuracy: 0.6000 - val_loss: 0.6606 - val_accuracy: 0.7500\n",
      "Epoch 10/50\n",
      "15/15 [==============================] - 4s 283ms/step - loss: 0.6759 - accuracy: 0.5750 - val_loss: 0.7212 - val_accuracy: 0.6250\n",
      "Epoch 11/50\n",
      "15/15 [==============================] - 4s 282ms/step - loss: 0.6505 - accuracy: 0.6167 - val_loss: 0.7740 - val_accuracy: 0.6250\n",
      "Epoch 12/50\n",
      "15/15 [==============================] - 4s 284ms/step - loss: 0.6586 - accuracy: 0.5917 - val_loss: 0.5900 - val_accuracy: 0.7500\n",
      "Epoch 13/50\n",
      "15/15 [==============================] - 4s 289ms/step - loss: 0.6383 - accuracy: 0.6333 - val_loss: 0.6646 - val_accuracy: 0.5000\n",
      "Epoch 14/50\n",
      "15/15 [==============================] - 4s 300ms/step - loss: 0.6434 - accuracy: 0.6083 - val_loss: 0.7865 - val_accuracy: 0.3750\n",
      "Epoch 15/50\n",
      "15/15 [==============================] - 4s 285ms/step - loss: 0.6326 - accuracy: 0.6333 - val_loss: 0.6203 - val_accuracy: 0.6250\n",
      "Epoch 16/50\n",
      "15/15 [==============================] - 4s 294ms/step - loss: 0.6333 - accuracy: 0.5917 - val_loss: 0.7681 - val_accuracy: 0.5000\n",
      "Epoch 17/50\n",
      "15/15 [==============================] - 5s 309ms/step - loss: 0.6360 - accuracy: 0.6417 - val_loss: 0.6686 - val_accuracy: 0.7500\n",
      "Epoch 18/50\n",
      "15/15 [==============================] - 5s 306ms/step - loss: 0.6114 - accuracy: 0.5833 - val_loss: 0.8462 - val_accuracy: 0.5000\n",
      "Epoch 19/50\n",
      "15/15 [==============================] - 4s 290ms/step - loss: 0.5990 - accuracy: 0.6083 - val_loss: 0.7871 - val_accuracy: 0.5000\n",
      "Epoch 20/50\n",
      "15/15 [==============================] - 4s 289ms/step - loss: 0.5948 - accuracy: 0.6083 - val_loss: 0.6407 - val_accuracy: 0.5000\n",
      "Epoch 21/50\n",
      "15/15 [==============================] - 4s 288ms/step - loss: 0.6668 - accuracy: 0.5917 - val_loss: 0.6880 - val_accuracy: 0.5000\n",
      "Epoch 22/50\n",
      "15/15 [==============================] - 4s 293ms/step - loss: 0.6392 - accuracy: 0.6250 - val_loss: 0.7045 - val_accuracy: 0.6250\n",
      "Epoch 23/50\n",
      "15/15 [==============================] - 4s 291ms/step - loss: 0.6175 - accuracy: 0.6250 - val_loss: 0.7659 - val_accuracy: 0.3750\n",
      "Epoch 24/50\n",
      "15/15 [==============================] - 4s 283ms/step - loss: 0.6128 - accuracy: 0.6250 - val_loss: 0.6265 - val_accuracy: 0.7500\n",
      "Epoch 25/50\n",
      "15/15 [==============================] - 4s 288ms/step - loss: 0.6029 - accuracy: 0.6333 - val_loss: 0.6577 - val_accuracy: 0.7500\n",
      "Epoch 26/50\n",
      "15/15 [==============================] - 4s 280ms/step - loss: 0.5748 - accuracy: 0.6667 - val_loss: 1.2642 - val_accuracy: 0.5000\n",
      "Epoch 27/50\n",
      "15/15 [==============================] - 4s 287ms/step - loss: 0.5708 - accuracy: 0.6750 - val_loss: 0.9167 - val_accuracy: 0.2500\n",
      "Epoch 28/50\n",
      "15/15 [==============================] - 4s 294ms/step - loss: 0.6030 - accuracy: 0.6667 - val_loss: 0.9110 - val_accuracy: 0.2500\n",
      "Epoch 29/50\n",
      "15/15 [==============================] - 5s 308ms/step - loss: 0.6038 - accuracy: 0.6333 - val_loss: 0.8280 - val_accuracy: 0.6250\n",
      "Epoch 30/50\n",
      "15/15 [==============================] - 4s 300ms/step - loss: 0.5907 - accuracy: 0.6333 - val_loss: 0.9304 - val_accuracy: 0.5000\n",
      "Epoch 31/50\n",
      "15/15 [==============================] - 4s 294ms/step - loss: 0.5615 - accuracy: 0.7000 - val_loss: 0.8379 - val_accuracy: 0.3750\n",
      "Epoch 32/50\n",
      "15/15 [==============================] - 4s 297ms/step - loss: 0.5459 - accuracy: 0.6583 - val_loss: 0.7236 - val_accuracy: 0.5000\n",
      "Epoch 33/50\n",
      "15/15 [==============================] - 5s 306ms/step - loss: 0.6084 - accuracy: 0.6167 - val_loss: 1.4478 - val_accuracy: 0.5000\n",
      "Epoch 34/50\n",
      "15/15 [==============================] - 4s 298ms/step - loss: 0.5646 - accuracy: 0.5917 - val_loss: 0.8801 - val_accuracy: 0.5000\n",
      "Epoch 35/50\n",
      "15/15 [==============================] - 4s 290ms/step - loss: 0.5263 - accuracy: 0.6833 - val_loss: 0.8715 - val_accuracy: 0.5000\n",
      "Epoch 36/50\n",
      "15/15 [==============================] - 4s 290ms/step - loss: 0.5895 - accuracy: 0.6667 - val_loss: 0.9595 - val_accuracy: 0.2500\n",
      "Epoch 37/50\n",
      "15/15 [==============================] - 4s 283ms/step - loss: 0.5700 - accuracy: 0.7083 - val_loss: 1.2330 - val_accuracy: 0.6250\n",
      "Epoch 38/50\n",
      "15/15 [==============================] - 4s 279ms/step - loss: 0.6034 - accuracy: 0.6500 - val_loss: 0.7110 - val_accuracy: 0.5000\n",
      "Epoch 39/50\n",
      "15/15 [==============================] - 4s 298ms/step - loss: 0.5668 - accuracy: 0.7083 - val_loss: 0.8100 - val_accuracy: 0.6250\n",
      "Epoch 40/50\n",
      "15/15 [==============================] - 5s 307ms/step - loss: 0.5696 - accuracy: 0.6417 - val_loss: 1.0268 - val_accuracy: 0.2500\n",
      "Epoch 41/50\n"
     ]
    },
    {
     "name": "stdout",
     "output_type": "stream",
     "text": [
      "15/15 [==============================] - 5s 307ms/step - loss: 0.5778 - accuracy: 0.7250 - val_loss: 0.7084 - val_accuracy: 0.3750\n",
      "Epoch 42/50\n",
      "15/15 [==============================] - 4s 293ms/step - loss: 0.6239 - accuracy: 0.6083 - val_loss: 0.7486 - val_accuracy: 0.3750\n",
      "Epoch 43/50\n",
      "15/15 [==============================] - 4s 297ms/step - loss: 0.5636 - accuracy: 0.7083 - val_loss: 1.5768 - val_accuracy: 0.5000\n",
      "Epoch 44/50\n",
      "15/15 [==============================] - 5s 299ms/step - loss: 0.6231 - accuracy: 0.6250 - val_loss: 0.7631 - val_accuracy: 0.5000\n",
      "Epoch 45/50\n",
      "15/15 [==============================] - 4s 297ms/step - loss: 0.5663 - accuracy: 0.6667 - val_loss: 1.0963 - val_accuracy: 0.3750\n",
      "Epoch 46/50\n",
      "15/15 [==============================] - 4s 294ms/step - loss: 0.5992 - accuracy: 0.6833 - val_loss: 0.7344 - val_accuracy: 0.3750\n",
      "Epoch 47/50\n",
      "15/15 [==============================] - 4s 296ms/step - loss: 0.5568 - accuracy: 0.6750 - val_loss: 0.8096 - val_accuracy: 0.6250\n",
      "Epoch 48/50\n",
      "15/15 [==============================] - 4s 286ms/step - loss: 0.5615 - accuracy: 0.6833 - val_loss: 1.8396 - val_accuracy: 0.5000\n",
      "Epoch 49/50\n",
      "15/15 [==============================] - 4s 284ms/step - loss: 0.5381 - accuracy: 0.6583 - val_loss: 2.4449 - val_accuracy: 0.2500\n",
      "Epoch 50/50\n",
      "15/15 [==============================] - 4s 291ms/step - loss: 0.5259 - accuracy: 0.6917 - val_loss: 1.6026 - val_accuracy: 0.5000\n"
     ]
    }
   ],
   "source": [
    "history = model.fit(\n",
    "     train_ds,\n",
    "     epochs = EPOCHS,\n",
    "     batch_size = BATCH_SIZE,\n",
    "     verbose=1,\n",
    "     validation_data=val_ds\n",
    "    \n",
    ")"
   ]
  },
  {
   "cell_type": "code",
   "execution_count": null,
   "id": "9b9d1a07",
   "metadata": {},
   "outputs": [],
   "source": [
    "# model = models.Sequential()\n",
    "# model.add(layers.Conv2D(32, (3, 3), activation='relu', input_shape=(32, 32, 3)))\n",
    "# model.add(layers.MaxPooling2D((2, 2)))\n",
    "# model.add(layers.Conv2D(64, (3, 3), activation='relu'))\n",
    "# model.add(layers.MaxPooling2D((2, 2)))\n",
    "# model.add(layers.Conv2D(64, (3, 3), activation='relu'))\n",
    "\n",
    "# model.add(layers.Flatten())\n",
    "# model.add(layers.Dense(64, activation='relu'))\n",
    "# model.add(layers.Dense(10))\n",
    "\n",
    "\n",
    "# model.compile(optimizer='adam',\n",
    "#               loss=tf.keras.losses.SparseCategoricalCrossentropy(from_logits=True),\n",
    "#               metrics=['accuracy'])\n",
    "\n",
    "# trainImages = np.asarray(trainImages)\n",
    "# trainLabels = np.asarray(trainLabels).astype('float32')\n",
    "# validationLabels = np.asarray(validationLabels).astype('float32')\n",
    "# validationImages = np.asarray(validationImages)\n",
    "\n",
    "# history = model.fit(trainImages, trainLabels, epochs=10, \n",
    "#                     validation_data=(validationImages, validationLabels))"
   ]
  },
  {
   "cell_type": "code",
   "execution_count": null,
   "id": "d1c1fda2",
   "metadata": {},
   "outputs": [],
   "source": [
    "# trainImages.shape()\n",
    "# trainLabels.shape()\n",
    "\n",
    "# validationImages.shape()\n",
    "# validationLabels.shape()"
   ]
  },
  {
   "cell_type": "code",
   "execution_count": null,
   "id": "82283767",
   "metadata": {},
   "outputs": [],
   "source": [
    "# (train_images, train_labels), (test_images, test_labels) = datasets.cifar10.load_data()\n"
   ]
  }
 ],
 "metadata": {
  "kernelspec": {
   "display_name": "Python 3 (ipykernel)",
   "language": "python",
   "name": "python3"
  },
  "language_info": {
   "codemirror_mode": {
    "name": "ipython",
    "version": 3
   },
   "file_extension": ".py",
   "mimetype": "text/x-python",
   "name": "python",
   "nbconvert_exporter": "python",
   "pygments_lexer": "ipython3",
   "version": "3.9.12"
  }
 },
 "nbformat": 4,
 "nbformat_minor": 5
}
